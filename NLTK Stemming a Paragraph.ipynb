{
 "cells": [
  {
   "cell_type": "code",
   "execution_count": 1,
   "metadata": {},
   "outputs": [],
   "source": [
    "para = \"Louis Armstrong was the first important soloist to emerge in jazz, and he became the most influential musician in the music's history. As a trumpet virtuoso, his playing, beginning with the 1920s studio recordings made with his Hot Five and Hot Seven ensembles, charted a future for jazz in highly imaginative, emotionally charged improvisation. For this, he is revered by jazz fans. But Armstrong also became an enduring figure in popular music, due to his distinctively phrased bass singing and engaging personality, which were on display in a series of vocal recordings and film roles.\""
   ]
  },
  {
   "cell_type": "code",
   "execution_count": 2,
   "metadata": {},
   "outputs": [
    {
     "name": "stdout",
     "output_type": "stream",
     "text": [
      "['Louis', 'Armstrong', 'was', 'the', 'first', 'important', 'soloist', 'to', 'emerge', 'in', 'jazz', ',', 'and', 'he', 'became', 'the', 'most', 'influential', 'musician', 'in', 'the', 'music', \"'s\", 'history', '.', 'As', 'a', 'trumpet', 'virtuoso', ',', 'his', 'playing', ',', 'beginning', 'with', 'the', '1920s', 'studio', 'recordings', 'made', 'with', 'his', 'Hot', 'Five', 'and', 'Hot', 'Seven', 'ensembles', ',', 'charted', 'a', 'future', 'for', 'jazz', 'in', 'highly', 'imaginative', ',', 'emotionally', 'charged', 'improvisation', '.', 'For', 'this', ',', 'he', 'is', 'revered', 'by', 'jazz', 'fans', '.', 'But', 'Armstrong', 'also', 'became', 'an', 'enduring', 'figure', 'in', 'popular', 'music', ',', 'due', 'to', 'his', 'distinctively', 'phrased', 'bass', 'singing', 'and', 'engaging', 'personality', ',', 'which', 'were', 'on', 'display', 'in', 'a', 'series', 'of', 'vocal', 'recordings', 'and', 'film', 'roles', '.']\n"
     ]
    }
   ],
   "source": [
    "from nltk import word_tokenize\n",
    "tokens = word_tokenize(para) \n",
    "print(tokens)"
   ]
  },
  {
   "cell_type": "code",
   "execution_count": 3,
   "metadata": {},
   "outputs": [],
   "source": [
    "from nltk.stem.porter import PorterStemmer\n",
    "lem = PorterStemmer()"
   ]
  },
  {
   "cell_type": "code",
   "execution_count": 4,
   "metadata": {},
   "outputs": [
    {
     "name": "stdout",
     "output_type": "stream",
     "text": [
      "Louis:loui\n",
      "Armstrong:armstrong\n",
      "was:wa\n",
      "the:the\n",
      "first:first\n",
      "important:import\n",
      "soloist:soloist\n",
      "to:to\n",
      "emerge:emerg\n",
      "in:in\n",
      "jazz:jazz\n",
      ",:,\n",
      "and:and\n",
      "he:he\n",
      "became:becam\n",
      "the:the\n",
      "most:most\n",
      "influential:influenti\n",
      "musician:musician\n",
      "in:in\n",
      "the:the\n",
      "music:music\n",
      "'s:'s\n",
      "history:histori\n",
      ".:.\n",
      "As:As\n",
      "a:a\n",
      "trumpet:trumpet\n",
      "virtuoso:virtuoso\n",
      ",:,\n",
      "his:hi\n",
      "playing:play\n",
      ",:,\n",
      "beginning:begin\n",
      "with:with\n",
      "the:the\n",
      "1920s:1920\n",
      "studio:studio\n",
      "recordings:record\n",
      "made:made\n",
      "with:with\n",
      "his:hi\n",
      "Hot:hot\n",
      "Five:five\n",
      "and:and\n",
      "Hot:hot\n",
      "Seven:seven\n",
      "ensembles:ensembl\n",
      ",:,\n",
      "charted:chart\n",
      "a:a\n",
      "future:futur\n",
      "for:for\n",
      "jazz:jazz\n",
      "in:in\n",
      "highly:highli\n",
      "imaginative:imagin\n",
      ",:,\n",
      "emotionally:emot\n",
      "charged:charg\n",
      "improvisation:improvis\n",
      ".:.\n",
      "For:for\n",
      "this:thi\n",
      ",:,\n",
      "he:he\n",
      "is:is\n",
      "revered:rever\n",
      "by:by\n",
      "jazz:jazz\n",
      "fans:fan\n",
      ".:.\n",
      "But:but\n",
      "Armstrong:armstrong\n",
      "also:also\n",
      "became:becam\n",
      "an:an\n",
      "enduring:endur\n",
      "figure:figur\n",
      "in:in\n",
      "popular:popular\n",
      "music:music\n",
      ",:,\n",
      "due:due\n",
      "to:to\n",
      "his:hi\n",
      "distinctively:distinct\n",
      "phrased:phrase\n",
      "bass:bass\n",
      "singing:sing\n",
      "and:and\n",
      "engaging:engag\n",
      "personality:person\n",
      ",:,\n",
      "which:which\n",
      "were:were\n",
      "on:on\n",
      "display:display\n",
      "in:in\n",
      "a:a\n",
      "series:seri\n",
      "of:of\n",
      "vocal:vocal\n",
      "recordings:record\n",
      "and:and\n",
      "film:film\n",
      "roles:role\n",
      ".:.\n"
     ]
    }
   ],
   "source": [
    "from nltk.tokenize import sent_tokenize, word_tokenize\n",
    "for word in tokens:\n",
    "    print (word + \":\" + lem.stem(word))"
   ]
  },
  {
   "cell_type": "code",
   "execution_count": null,
   "metadata": {},
   "outputs": [],
   "source": []
  }
 ],
 "metadata": {
  "kernelspec": {
   "display_name": "Python 3",
   "language": "python",
   "name": "python3"
  },
  "language_info": {
   "codemirror_mode": {
    "name": "ipython",
    "version": 3
   },
   "file_extension": ".py",
   "mimetype": "text/x-python",
   "name": "python",
   "nbconvert_exporter": "python",
   "pygments_lexer": "ipython3",
   "version": "3.8.3"
  }
 },
 "nbformat": 4,
 "nbformat_minor": 4
}
