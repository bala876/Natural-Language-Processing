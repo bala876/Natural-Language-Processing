{
 "cells": [
  {
   "cell_type": "code",
   "execution_count": 1,
   "metadata": {},
   "outputs": [],
   "source": [
    "from nltk.corpus import stopwords"
   ]
  },
  {
   "cell_type": "code",
   "execution_count": 2,
   "metadata": {},
   "outputs": [],
   "source": [
    "rem = set(('have', 'or', 'not'))"
   ]
  },
  {
   "cell_type": "code",
   "execution_count": 3,
   "metadata": {},
   "outputs": [
    {
     "name": "stdout",
     "output_type": "stream",
     "text": [
      "{'are', 'ourselves', 'herself', 'at', 'to', 'do', 'with', 'very', 'hasn', 'can', 'yourselves', 'up', 'in', 'been', 'a', 'there', 'these', 'because', 'being', 'ours', 'few', \"you'll\", 'hers', 'this', 'his', 've', 'was', \"hadn't\", \"mightn't\", 'am', 'wasn', 'under', \"shouldn't\", 'the', 'should', 'from', 'myself', 'what', 'she', 'now', 'aren', \"she's\", 'is', 'further', 'shan', 'him', 'if', 'itself', 'its', 'had', 'some', 'over', 'isn', 'during', 'couldn', 'when', 'themselves', 'each', 'such', 'most', \"mustn't\", 't', 'too', 'why', 'them', 'here', 'so', 'were', 'same', 'out', 'will', 'before', 'me', 'into', 'about', 'your', 'while', 'didn', 's', 'be', 're', 'ain', 'then', 'yourself', 'theirs', 'and', 'only', \"haven't\", 'll', 'our', \"you're\", 'has', 'both', \"didn't\", 'having', 'above', 'which', 'an', 'down', 'where', 'than', 'who', 'it', 'their', 'between', \"you'd\", 'all', 'mightn', \"shan't\", 'yours', 'but', 'nor', 'ma', 'on', \"doesn't\", 'those', \"needn't\", 'don', 'he', 'through', 'no', 'we', 'for', 'as', 'until', 'my', 'more', \"couldn't\", 'by', 'd', 'hadn', 'below', 'm', 'doesn', 'did', \"don't\", 'i', 'again', 'mustn', 'haven', 'just', 'once', 'weren', 'of', 'whom', \"weren't\", 'won', 'any', \"you've\", 'other', 'doing', 'off', \"should've\", 'needn', 'against', \"wasn't\", 'how', 'does', 'himself', \"that'll\", \"it's\", 'her', 'shouldn', 'own', 'you', \"aren't\", 'they', 'y', \"hasn't\", 'o', \"isn't\", 'that', \"wouldn't\", 'wouldn', 'after', \"won't\"}\n"
     ]
    }
   ],
   "source": [
    "stopwords = set(stopwords.words('English'))- rem\n",
    "print(stopwords)"
   ]
  },
  {
   "cell_type": "code",
   "execution_count": 4,
   "metadata": {},
   "outputs": [],
   "source": [
    "sentence = \"I have never seen such a beautiful place in my life. What a wonderful world!\""
   ]
  },
  {
   "cell_type": "code",
   "execution_count": 5,
   "metadata": {},
   "outputs": [
    {
     "name": "stdout",
     "output_type": "stream",
     "text": [
      "['I', 'have', 'never', 'seen', 'such', 'a', 'beautiful', 'place', 'in', 'my', 'life', '.', 'What', 'a', 'wonderful', 'world', '!']\n"
     ]
    }
   ],
   "source": [
    "# Tokenization\n",
    "from nltk import word_tokenize\n",
    "tokens = word_tokenize(sentence)\n",
    "print(tokens)\n"
   ]
  },
  {
   "cell_type": "code",
   "execution_count": 6,
   "metadata": {},
   "outputs": [
    {
     "name": "stdout",
     "output_type": "stream",
     "text": [
      "['I', 'have', 'never', 'seen', 'beautiful', 'place', 'life', '.', 'What', 'wonderful', 'world', '!']\n"
     ]
    }
   ],
   "source": [
    "# Removal of Stop words\n",
    "filtered_words = [ w for w in tokens if w not in stopwords]\n",
    "print (filtered_words)"
   ]
  },
  {
   "cell_type": "code",
   "execution_count": null,
   "metadata": {},
   "outputs": [],
   "source": []
  }
 ],
 "metadata": {
  "kernelspec": {
   "display_name": "Python 3",
   "language": "python",
   "name": "python3"
  },
  "language_info": {
   "codemirror_mode": {
    "name": "ipython",
    "version": 3
   },
   "file_extension": ".py",
   "mimetype": "text/x-python",
   "name": "python",
   "nbconvert_exporter": "python",
   "pygments_lexer": "ipython3",
   "version": "3.8.3"
  }
 },
 "nbformat": 4,
 "nbformat_minor": 4
}
