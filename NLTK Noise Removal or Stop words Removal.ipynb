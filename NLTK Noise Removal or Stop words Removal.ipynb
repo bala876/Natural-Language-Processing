{
 "cells": [
  {
   "cell_type": "code",
   "execution_count": 1,
   "metadata": {},
   "outputs": [],
   "source": [
    "from nltk.corpus import stopwords"
   ]
  },
  {
   "cell_type": "code",
   "execution_count": 2,
   "metadata": {},
   "outputs": [],
   "source": [
    "stopwords = set(stopwords.words('English'))"
   ]
  },
  {
   "cell_type": "code",
   "execution_count": 3,
   "metadata": {},
   "outputs": [
    {
     "name": "stdout",
     "output_type": "stream",
     "text": [
      "{'own', 'won', \"you'll\", 'once', 'ma', \"mightn't\", 'wasn', 'ours', \"should've\", 'a', 'll', \"didn't\", 'be', 'with', 'each', 'over', 'too', 'further', 'if', 'aren', 'my', 'or', 'under', \"isn't\", 'same', 'is', 'it', 'while', 'below', 'such', 'weren', 'has', 'through', 'most', 'ourselves', 'few', \"needn't\", \"hasn't\", 'didn', 'before', 'isn', 'when', 'these', 'above', 's', 'your', 'from', \"haven't\", 'couldn', 'during', 'yourself', 'doesn', 'she', \"she's\", 'there', 'nor', 'was', 'about', 'hasn', 'yourselves', 'those', 'd', 'what', 'just', 'should', 'can', 'hers', \"you're\", 'having', 'no', 'mustn', \"weren't\", 'very', 'which', \"won't\", 'who', 'only', 'here', 'shan', \"you've\", 'then', 'into', \"mustn't\", \"wasn't\", 'against', \"shouldn't\", 'other', 'but', \"that'll\", 'again', 'you', 'myself', 'been', 'yours', 'of', 'am', \"don't\", 'any', 'and', 'he', 'on', 'are', 'o', 'up', 'more', 'wouldn', 'me', \"couldn't\", 'after', 'itself', \"hadn't\", 'they', 'to', 'his', 'where', \"you'd\", 'by', 'now', 'its', 'their', 'some', 're', 'an', 'her', 'all', 'because', 'm', 'our', 'them', 'haven', 'at', 'why', 'will', 'mightn', 'did', 'how', 'both', 'not', 'than', 'needn', \"it's\", 'down', 'themselves', 'the', 'being', 'until', 'i', 'don', \"doesn't\", 'shouldn', \"wouldn't\", 'between', 'we', 'had', 'off', 'does', 'ain', 'have', 'so', 'y', 't', 'theirs', 'him', 'herself', 'were', 'hadn', 'in', 'this', 'as', 'whom', 'doing', \"aren't\", 'do', 'for', \"shan't\", 'out', 'that', 've', 'himself'}\n"
     ]
    }
   ],
   "source": [
    "print(stopwords)"
   ]
  },
  {
   "cell_type": "code",
   "execution_count": 4,
   "metadata": {},
   "outputs": [],
   "source": [
    "sentence = \"I have never seen such a beautiful place in my life. What a wonderful world!\""
   ]
  },
  {
   "cell_type": "code",
   "execution_count": 5,
   "metadata": {},
   "outputs": [
    {
     "name": "stdout",
     "output_type": "stream",
     "text": [
      "['I', 'have', 'never', 'seen', 'such', 'a', 'beautiful', 'place', 'in', 'my', 'life', '.', 'What', 'a', 'wonderful', 'world', '!']\n"
     ]
    }
   ],
   "source": [
    "# Tokenization\n",
    "from nltk import word_tokenize\n",
    "tokens = word_tokenize(sentence)\n",
    "print(tokens)"
   ]
  },
  {
   "cell_type": "code",
   "execution_count": 6,
   "metadata": {},
   "outputs": [
    {
     "name": "stdout",
     "output_type": "stream",
     "text": [
      "['I', 'never', 'seen', 'beautiful', 'place', 'life', '.', 'What', 'wonderful', 'world', '!']\n"
     ]
    }
   ],
   "source": [
    "# Removal of Stop words\n",
    "filtered_words = [ w for w in tokens if w not in stopwords]\n",
    "print (filtered_words)"
   ]
  },
  {
   "cell_type": "code",
   "execution_count": null,
   "metadata": {},
   "outputs": [],
   "source": []
  }
 ],
 "metadata": {
  "kernelspec": {
   "display_name": "Python 3",
   "language": "python",
   "name": "python3"
  },
  "language_info": {
   "codemirror_mode": {
    "name": "ipython",
    "version": 3
   },
   "file_extension": ".py",
   "mimetype": "text/x-python",
   "name": "python",
   "nbconvert_exporter": "python",
   "pygments_lexer": "ipython3",
   "version": "3.8.3"
  }
 },
 "nbformat": 4,
 "nbformat_minor": 4
}
